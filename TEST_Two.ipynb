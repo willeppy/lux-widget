{
 "cells": [
  {
   "cell_type": "code",
   "execution_count": 1,
   "id": "transparent-album",
   "metadata": {},
   "outputs": [
    {
     "data": {
      "text/plain": [
       "140437653175936"
      ]
     },
     "execution_count": 1,
     "metadata": {},
     "output_type": "execute_result"
    }
   ],
   "source": [
    "import lux\n",
    "import pandas as pd\n",
    "import numpy as np\n",
    "from vega_datasets import data\n",
    "\n",
    "lux.config.default_display = \"lux\"\n",
    "from IPython.core.debugger import set_trace\n",
    "\n",
    "df = data.cars()\n",
    "id(df)"
   ]
  },
  {
   "cell_type": "code",
   "execution_count": 2,
   "id": "outside-holiday",
   "metadata": {},
   "outputs": [],
   "source": [
    "df.intent = []"
   ]
  },
  {
   "cell_type": "code",
   "execution_count": 3,
   "id": "retained-electron",
   "metadata": {},
   "outputs": [
    {
     "data": {
      "application/vnd.jupyter.widget-view+json": {
       "model_id": "1aff1bfc9e2b42d49d2d34f8e96c045e",
       "version_major": 2,
       "version_minor": 0
      },
      "text/plain": [
       "Button(description='Toggle Pandas/Lux', layout=Layout(top='5px', width='140px'), style=ButtonStyle())"
      ]
     },
     "metadata": {},
     "output_type": "display_data"
    },
    {
     "data": {
      "application/vnd.jupyter.widget-view+json": {
       "model_id": "3aad0efc56a34ba7a4879b164f2d21e7",
       "version_major": 2,
       "version_minor": 0
      },
      "text/plain": [
       "Output()"
      ]
     },
     "metadata": {},
     "output_type": "display_data"
    }
   ],
   "source": [
    "df"
   ]
  },
  {
   "cell_type": "code",
   "execution_count": null,
   "id": "surface-opportunity",
   "metadata": {},
   "outputs": [],
   "source": []
  },
  {
   "cell_type": "code",
   "execution_count": null,
   "id": "superb-chart",
   "metadata": {},
   "outputs": [],
   "source": []
  },
  {
   "cell_type": "code",
   "execution_count": null,
   "id": "vanilla-receptor",
   "metadata": {},
   "outputs": [],
   "source": []
  },
  {
   "cell_type": "code",
   "execution_count": null,
   "id": "political-conversion",
   "metadata": {},
   "outputs": [],
   "source": []
  },
  {
   "cell_type": "code",
   "execution_count": 3,
   "id": "young-illustration",
   "metadata": {},
   "outputs": [],
   "source": [
    "df[\"new\"] = df.Cylinders * 100"
   ]
  },
  {
   "cell_type": "code",
   "execution_count": 4,
   "id": "handmade-stanley",
   "metadata": {},
   "outputs": [
    {
     "data": {
      "application/vnd.jupyter.widget-view+json": {
       "model_id": "17846e45ff2b4076a3b9f94a1719c3e1",
       "version_major": 2,
       "version_minor": 0
      },
      "text/plain": [
       "Button(description='Toggle Pandas/Lux', layout=Layout(top='5px', width='140px'), style=ButtonStyle())"
      ]
     },
     "metadata": {},
     "output_type": "display_data"
    },
    {
     "data": {
      "application/vnd.jupyter.widget-view+json": {
       "model_id": "922a175cfd464c318543f2ab3a2824f9",
       "version_major": 2,
       "version_minor": 0
      },
      "text/plain": [
       "Output()"
      ]
     },
     "metadata": {},
     "output_type": "display_data"
    }
   ],
   "source": [
    "df"
   ]
  },
  {
   "cell_type": "code",
   "execution_count": 6,
   "id": "moving-cisco",
   "metadata": {},
   "outputs": [
    {
     "data": {
      "application/vnd.jupyter.widget-view+json": {
       "model_id": "ae435d1f7b3b443caa66b5d065c50d17",
       "version_major": 2,
       "version_minor": 0
      },
      "text/plain": [
       "Button(description='Toggle Pandas/Lux', layout=Layout(top='5px', width='140px'), style=ButtonStyle())"
      ]
     },
     "metadata": {},
     "output_type": "display_data"
    },
    {
     "data": {
      "application/vnd.jupyter.widget-view+json": {
       "model_id": "a4d414448cd94564939b7c96c8eb7c08",
       "version_major": 2,
       "version_minor": 0
      },
      "text/plain": [
       "Output()"
      ]
     },
     "metadata": {},
     "output_type": "display_data"
    }
   ],
   "source": [
    "df.Origin.value_counts()"
   ]
  },
  {
   "cell_type": "code",
   "execution_count": 5,
   "id": "correct-passion",
   "metadata": {},
   "outputs": [
    {
     "data": {
      "application/vnd.jupyter.widget-view+json": {
       "model_id": "aae63ddc34004f99a1fa00b12e7abca8",
       "version_major": 2,
       "version_minor": 0
      },
      "text/plain": [
       "Button(description='Toggle Pandas/Lux', layout=Layout(top='5px', width='140px'), style=ButtonStyle())"
      ]
     },
     "metadata": {},
     "output_type": "display_data"
    },
    {
     "data": {
      "application/vnd.jupyter.widget-view+json": {
       "model_id": "56eb6f4d972d48b590dd3759ac3a47c0",
       "version_major": 2,
       "version_minor": 0
      },
      "text/plain": [
       "Output()"
      ]
     },
     "metadata": {},
     "output_type": "display_data"
    }
   ],
   "source": [
    "df[df.Cylinders > 5]"
   ]
  },
  {
   "cell_type": "code",
   "execution_count": 3,
   "id": "abandoned-attempt",
   "metadata": {},
   "outputs": [
    {
     "data": {
      "text/plain": [
       "[\n",
       "<Event (id: 140279286168832) @[3]: \u001b[1mintent_set\u001b[0m, cols=['Miles_per_Gallon', 'Displacement', 'Horsepower', 'Weight_in_lbs', 'Acceleration']> with weight 1.0\n",
       "]"
      ]
     },
     "execution_count": 3,
     "metadata": {},
     "output_type": "execute_result"
    }
   ],
   "source": [
    "df.history"
   ]
  },
  {
   "cell_type": "code",
   "execution_count": 4,
   "id": "superior-invasion",
   "metadata": {},
   "outputs": [
    {
     "data": {
      "application/vnd.jupyter.widget-view+json": {
       "model_id": "6b92cc3915004694a2b31cff1f9acd31",
       "version_major": 2,
       "version_minor": 0
      },
      "text/plain": [
       "Button(description='Toggle Pandas/Lux', layout=Layout(top='5px', width='140px'), style=ButtonStyle())"
      ]
     },
     "metadata": {},
     "output_type": "display_data"
    },
    {
     "data": {
      "application/vnd.jupyter.widget-view+json": {
       "model_id": "e44e7e67419b4f359d4f2f9b5c420169",
       "version_major": 2,
       "version_minor": 0
      },
      "text/plain": [
       "Output()"
      ]
     },
     "metadata": {},
     "output_type": "display_data"
    }
   ],
   "source": [
    "df[df.Cylinders > 5]"
   ]
  },
  {
   "cell_type": "code",
   "execution_count": 3,
   "id": "circular-genre",
   "metadata": {},
   "outputs": [
    {
     "data": {
      "text/plain": [
       "[<Clause  description: ['Miles_per_Gallon', 'Displacement', 'Horsepower', 'Weight_in_lbs', 'Acceleration'],\n",
       "          channel: x,\n",
       "          attribute: Displacement,\n",
       "          data_model: measure,\n",
       "          data_type: quantitative,\n",
       "          bin_size: 10 >,\n",
       " <Clause  channel: y,\n",
       "          attribute: Record,\n",
       "          aggregation: count,\n",
       "          data_model: measure,\n",
       "          data_type: quantitative >]"
      ]
     },
     "execution_count": 3,
     "metadata": {},
     "output_type": "execute_result"
    }
   ],
   "source": [
    "df.exported[0].intent"
   ]
  },
  {
   "cell_type": "code",
   "execution_count": 2,
   "id": "technical-oliver",
   "metadata": {},
   "outputs": [
    {
     "data": {
      "text/plain": [
       "[\n",
       "\n",
       "]"
      ]
     },
     "execution_count": 2,
     "metadata": {},
     "output_type": "execute_result"
    }
   ],
   "source": [
    "df.history"
   ]
  },
  {
   "cell_type": "code",
   "execution_count": 3,
   "id": "monthly-porter",
   "metadata": {},
   "outputs": [
    {
     "data": {
      "application/vnd.jupyter.widget-view+json": {
       "model_id": "32c3f5cce7e7433ebce10c22153bae86",
       "version_major": 2,
       "version_minor": 0
      },
      "text/plain": [
       "Button(description='Toggle Pandas/Lux', layout=Layout(top='5px', width='140px'), style=ButtonStyle())"
      ]
     },
     "metadata": {},
     "output_type": "display_data"
    },
    {
     "data": {
      "application/vnd.jupyter.widget-view+json": {
       "model_id": "3ee4ea38dde24b9db0c508de8dbc03fe",
       "version_major": 2,
       "version_minor": 0
      },
      "text/plain": [
       "Output()"
      ]
     },
     "metadata": {},
     "output_type": "display_data"
    }
   ],
   "source": [
    "df"
   ]
  },
  {
   "cell_type": "code",
   "execution_count": 4,
   "id": "driven-settle",
   "metadata": {},
   "outputs": [
    {
     "data": {
      "text/plain": [
       "[\n",
       "<Event (id: 140246254879888) @[3]: \u001b[1mcol_ref\u001b[0m, cols=['Miles_per_Gallon']> with weight 0.475,\n",
       "<Event (id: 140247085382528) @[3]: \u001b[1mfilter\u001b[0m, args=(), kwargs=dict_keys(['rank_type', 'child_df', 'filt_key'])> with weight 1.0\n",
       "]"
      ]
     },
     "execution_count": 4,
     "metadata": {},
     "output_type": "execute_result"
    }
   ],
   "source": [
    "df.history"
   ]
  },
  {
   "cell_type": "code",
   "execution_count": 7,
   "id": "exotic-dubai",
   "metadata": {},
   "outputs": [
    {
     "data": {
      "application/vnd.jupyter.widget-view+json": {
       "model_id": "ce126b16bab747ee9c0352fd50353a07",
       "version_major": 2,
       "version_minor": 0
      },
      "text/plain": [
       "Button(description='Toggle Pandas/Lux', layout=Layout(top='5px', width='140px'), style=ButtonStyle())"
      ]
     },
     "metadata": {},
     "output_type": "display_data"
    },
    {
     "data": {
      "application/vnd.jupyter.widget-view+json": {
       "model_id": "481c13e7874a49adab50938e89ad5fa5",
       "version_major": 2,
       "version_minor": 0
      },
      "text/plain": [
       "Output()"
      ]
     },
     "metadata": {},
     "output_type": "display_data"
    }
   ],
   "source": [
    "df.query(\"Origin == 'USA' & Cylinders > 6\")"
   ]
  },
  {
   "cell_type": "code",
   "execution_count": null,
   "id": "independent-mercy",
   "metadata": {},
   "outputs": [],
   "source": []
  }
 ],
 "metadata": {
  "kernelspec": {
   "display_name": "Python 3",
   "language": "python",
   "name": "python3"
  },
  "language_info": {
   "codemirror_mode": {
    "name": "ipython",
    "version": 3
   },
   "file_extension": ".py",
   "mimetype": "text/x-python",
   "name": "python",
   "nbconvert_exporter": "python",
   "pygments_lexer": "ipython3",
   "version": "3.9.1"
  }
 },
 "nbformat": 4,
 "nbformat_minor": 5
}
